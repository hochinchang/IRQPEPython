{
 "cells": [
  {
   "cell_type": "code",
   "execution_count": 1,
   "id": "4d542fef",
   "metadata": {},
   "outputs": [
    {
     "name": "stdout",
     "output_type": "stream",
     "text": [
      "<class 'tuple'>\n",
      "[80.0, 90.0, 100.0, 110.0, 115.0, 90.0, 55.0, 0.0]\n",
      "[80.0, 85.0, 90.0, 95.0, 100.0, 105.0, 110.0, 112.5, 115.0, 102.5, 90.0, 72.5, 55.0, 0.0]\n",
      "24\n",
      "[35.0, 45.0, 50.0, 55.0, 75.0, 95.0, 125.0, 115.0, 125.0, 130.0, 140.0, 135.0, 130.0, 125.0, 125.0, 140.0, 135.0, 120.0, 115.0, 95.0, 80.0, 80.0, 75.0, 80.0, 85.0, 90.0, 95.0, 100.0, 105.0, 110.0, 112.5, 115.0, 102.5, 90.0, 72.5, 55.0]\n",
      "36\n",
      "['2022-08-28 06:00', '2022-08-28 12:00', '2022-08-28 18:00', '2022-08-29 00:00', '2022-08-29 06:00', '2022-08-29 12:00', '2022-08-29 18:00', '2022-08-30 00:00', '2022-08-30 06:00', '2022-08-30 12:00', '2022-08-30 18:00', '2022-08-31 00:00', '2022-08-31 06:00', '2022-08-31 12:00', '2022-08-31 18:00', '2022-09-01 00:00', '2022-09-01 06:00', '2022-09-01 12:00', '2022-09-01 18:00', '2022-09-02 00:00', '2022-09-02 06:00', '2022-09-02 12:00', '2022-09-02 18:00', '2022-09-03 00:00']\n",
      "['Jan', 'FEB', 'MAR', 'APR', 'MAY', 'JUN', 'JUL', 'AUG', 'SEP', 'OCT', 'NOV', 'DEC']\n",
      "['', '', '', '29AUG\\n00Z', '', '', '', '30AUG\\n00Z', '', '', '', '31AUG\\n00Z', '', '', '', '01SEP\\n00Z', '', '', '', '02SEP\\n00Z', '', '', '', '03SEP\\n00Z']\n",
      "24\n",
      "['', '', '', '29AUG\\n00Z', '', '', '', '30AUG\\n00Z', '', '', '', '31AUG\\n00Z', '', '', '', '01SEP\\n00Z', '', '', '', '02SEP\\n00Z', '', '', '', '03SEP\\n00Z', '', '', '', '04SEP\\n00Z', '', '', '', '05SEP\\n00Z', '', '', '', '06SEP\\n00Z']\n",
      "36\n",
      "<class 'list'>\n"
     ]
    },
    {
     "name": "stderr",
     "output_type": "stream",
     "text": [
      "C:\\Users\\a247\\AppData\\Local\\Temp\\ipykernel_124828\\546331126.py:18: UserWarning: color is redundantly defined by the 'color' keyword argument and the fmt string \"-ob\" (-> color='b'). The keyword argument will take precedence.\n",
      "  ax.plot(x,rmaxwind,'-ob',color='b')\n"
     ]
    },
    {
     "name": "stdout",
     "output_type": "stream",
     "text": [
      "[35.0, 45.0, 50.0, 55.0, 75.0, 95.0, 125.0, 115.0, 125.0, 130.0, 140.0, 135.0, 130.0, 125.0, 125.0, 140.0, 135.0, 120.0, 115.0, 95.0, 80.0, 80.0, 75.0, 80.0, 85.0, 90.0, 95.0, 100.0, 105.0, 110.0, 112.5, 115.0, 102.5, 90.0, 72.5, 55.0]\n"
     ]
    },
    {
     "data": {
      "image/png": "[encoded data removed]",
      "text/plain": [
       "<Figure size 432x288 with 1 Axes>"
      ]
     },
     "metadata": {
      "needs_background": "light"
     },
     "output_type": "display_data"
    }
   ],
   "source": [
    "def PLTYIntensity(rmaxwind,TYname,xdate):\n",
    "    print(type(rmaxwind))\n",
    "    #for i in rmaxwind:\n",
    "        #print(i)\n",
    "    lenx=len(rmaxwind)\n",
    "    x= np.arange(lenx)\n",
    "    fig=plt.figure()\n",
    "    # print(x,rmaxwind[:])\n",
    "    ax=plt.axes()\n",
    "    ax.set_title(\"TY name: \"+TYname)\n",
    "    type(tydate)\n",
    "    ax.set_xticks(x,xdate)\n",
    "    ax.set_xlim(-1,lenx)\n",
    "    ax.set_ylim(0,170)\n",
    "    ax.set_ylabel(\"10m Max Wind Speed(kt)\")\n",
    "    # Add text\n",
    "    plt.text(27, 150, \"Forecast\",fontsize='x-large')\n",
    "    ax.plot(x,rmaxwind,'-ob',color='b')\n",
    "\n",
    "    # Add rectangle\n",
    "    ax.add_patch(patches.Rectangle((24, 0), 12, 170, alpha=0.3, facecolor=\"red\", edgecolor=\"black\", linewidth=3, linestyle='solid'))\n",
    "    fig.savefig(\"ty_intensity.png\")\n",
    "\n",
    "\n",
    "\n",
    "def ReadLatLonIntensityTYfromRAMMB(file):\n",
    "    # open/read file content\n",
    "    with open(file)as fr: \n",
    "         # Skip first line : lines[0:]\n",
    "         lines=fr.readlines()[1:]\n",
    "    # split out variables\n",
    "    rlon=[]\n",
    "    rlat=[]\n",
    "    rmaxwind=[]\n",
    "    tydate=[]\n",
    "    for line in reversed(lines):\n",
    "        s = line.split('\\t')\n",
    "        rlat.append(float(s[1]))\n",
    "        rlon.append(float(s[2]))\n",
    "        rmaxwind.append(float(s[3]))\n",
    "        tydate.append(s[0])\n",
    "    return rlat,rlon,rmaxwind,tydate\n",
    "\n",
    "# Main program\n",
    "\n",
    "TYdata = ReadLatLonIntensityTYfromRAMMB(\"ty_2022no011.txt\")\n",
    "print(type(TYdata))\n",
    "rlon,rlat,rmaxwind,tydate=TYdata\n",
    "\n",
    "rmaxwind_obs = rmaxwind\n",
    "# Read fcst data\n",
    "    \n",
    "with open(\"f.txt\")as fr: \n",
    "         # Skip first line : lines[0:]\n",
    "         lines_f=fr.readlines()[1:]\n",
    "rlon_f=[]\n",
    "rlat_f=[]\n",
    "rmaxwind_f=[]\n",
    "for line in lines_f:\n",
    "    s = line.split('\\t')\n",
    "    rlat_f.append(float(s[1]))\n",
    "    rlon_f.append(float(s[2]))\n",
    "    rmaxwind_f.append(float(s[3]))\n",
    "rmaxwind_fcst=rmaxwind_f\n",
    "aaa=tuple(rmaxwind_f)\n",
    "print(rmaxwind_fcst)\n",
    "for i in [1,3,5,7,9,11]:\n",
    "    k=int((i+1)/2)\n",
    "    rmaxwind_fcst.insert(i,(aaa[k-1]+aaa[k])/2)\n",
    "print(rmaxwind_fcst)\n",
    "print(len(rmaxwind))\n",
    "\n",
    "for i in range(1,13):\n",
    "    rmaxwind.append(rmaxwind_fcst[i])\n",
    "\n",
    "print(rmaxwind)\n",
    "print(len(rmaxwind))\n",
    "\n",
    "# PLOT figure\n",
    "\n",
    "import matplotlib.patches as patches\n",
    "import matplotlib.pyplot as plt\n",
    "import numpy as np\n",
    "MONTH=[\"Jan\",\"FEB\",\"MAR\",\"APR\",\"MAY\",\"JUN\",\"JUL\",\"AUG\",\"SEP\",\"OCT\",\"NOV\",\"DEC\"]\n",
    "print(tydate)\n",
    "print(MONTH)\n",
    "xdate=[]\n",
    "for s in tydate:\n",
    "    imon=int(s[5:7])\n",
    "    amon=MONTH[imon-1]\n",
    "    if s[11:13] == \"00\":\n",
    "         stmp = s[8:10]+amon+\"\\n\"+s[11:13]+\"Z\"\n",
    "    else:\n",
    "         stmp =\"\"\n",
    "    xdate.append(stmp)\n",
    "print(xdate)\n",
    "print(len(xdate))\n",
    "\n",
    "for i in range(1,4):\n",
    "    xdate.append(\"\")\n",
    "xdate.append(\"04SEP\\n00Z\")\n",
    "for i in range(1,4):\n",
    "    xdate.append(\"\")\n",
    "xdate.append(\"05SEP\\n00Z\")\n",
    "for i in range(1,4):\n",
    "    xdate.append(\"\")\n",
    "xdate.append(\"06SEP\\n00Z\")\n",
    "print(xdate)\n",
    "print(len(xdate))\n",
    "PLTYIntensity(rmaxwind,\"HINNAMNOR\",xdate)\n",
    "#PLTYIntensity2(rmaxwind,\"HINNAMNOR\",xdate)\n",
    "print(rmaxwind_obs)"
   ]
  },
  {
   "cell_type": "code",
   "execution_count": null,
   "id": "85f3af55",
   "metadata": {},
   "outputs": [],
   "source": []
  }
 ],
 "metadata": {
  "kernelspec": {
   "display_name": "Python 3 (ipykernel)",
   "language": "python",
   "name": "python3"
  },
  "language_info": {
   "codemirror_mode": {
    "name": "ipython",
    "version": 3
   },
   "file_extension": ".py",
   "mimetype": "text/x-python",
   "name": "python",
   "nbconvert_exporter": "python",
   "pygments_lexer": "ipython3",
   "version": "3.9.12"
  }
 },
 "nbformat": 4,
 "nbformat_minor": 5
}
